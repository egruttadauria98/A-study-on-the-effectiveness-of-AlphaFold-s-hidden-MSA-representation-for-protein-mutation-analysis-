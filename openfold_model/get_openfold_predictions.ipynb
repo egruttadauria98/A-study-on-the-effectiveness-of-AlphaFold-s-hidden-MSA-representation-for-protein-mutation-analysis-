{
 "cells": [
  {
   "cell_type": "markdown",
   "metadata": {},
   "source": [
    "## Openfold Colab adaptation\n",
    "\n",
    "This notebook is a modification of the OpenFold Colab notebook: https://colab.research.google.com/github/aqlaboratory/openfold/blob/main/notebooks/OpenFold.ipynb"
   ]
  },
  {
   "cell_type": "code",
   "execution_count": 2,
   "metadata": {},
   "outputs": [],
   "source": [
    "import os\n",
    "\n",
    "import torch\n",
    "\n",
    "# A filthy hack to avoid slow Linear layer initialization\n",
    "import openfold.model.primitives\n",
    "\n",
    "def __default_linear_init__(self, *args, **kwargs):\n",
    "    return torch.nn.Linear.__init__(\n",
    "      self, \n",
    "      *args[:2], \n",
    "      **{k:v for k,v in kwargs.items() if k == \"bias\"}\n",
    "    )\n",
    "\n",
    "openfold.model.primitives.Linear.__init__ = __default_linear_init__\n",
    "\n",
    "from openfold import config\n",
    "from openfold.data import feature_pipeline\n",
    "from openfold.data import data_pipeline\n",
    "from openfold.model import model\n",
    "from openfold.utils.import_weights import import_jax_weights_\n",
    "from openfold.utils.tensor_utils import tensor_tree_map"
   ]
  },
  {
   "cell_type": "code",
   "execution_count": 3,
   "metadata": {},
   "outputs": [],
   "source": [
    "%load_ext autoreload"
   ]
  },
  {
   "cell_type": "code",
   "execution_count": 4,
   "metadata": {},
   "outputs": [],
   "source": [
    "%autoreload 2"
   ]
  },
  {
   "cell_type": "code",
   "execution_count": 5,
   "metadata": {},
   "outputs": [],
   "source": [
    "def _placeholder_template_feats(num_templates_, num_res_):\n",
    "  return {\n",
    "      'template_aatype': torch.zeros(num_templates_, num_res_, 22).long(),\n",
    "      'template_all_atom_positions': torch.zeros(num_templates_, num_res_, 37, 3),\n",
    "      'template_all_atom_mask': torch.zeros(num_templates_, num_res_, 37),\n",
    "      'template_domain_names': torch.zeros(num_templates_),\n",
    "      'template_sum_probs': torch.zeros(num_templates_, 1),\n",
    "  }"
   ]
  },
  {
   "cell_type": "code",
   "execution_count": 6,
   "metadata": {},
   "outputs": [],
   "source": [
    "import pickle\n",
    "\n",
    "with open(\"../data_pickle/deletion_matrices.pickle\", 'rb') as f:\n",
    "    deletion_matrices = pickle.load(f)\n",
    "\n",
    "with open(\"../data_pickle/msas.pickle\", 'rb') as f:\n",
    "    msas = pickle.load(f)"
   ]
  },
  {
   "cell_type": "code",
   "execution_count": 7,
   "metadata": {},
   "outputs": [],
   "source": [
    "sequence = \"MSIQHFRVALIPFFAAFCLPVFAHPETLVKVKDAEDQLGARVGYIELDLNSGKILESFRPEERFPMMSTFKVLLCGAVLSRVDAGQEQLGRRIHYSQNDLVEYSPVTEKHLTDGMTVRELCSAAITMSDNTAANLLLTTIGGPKELTAFLHNMGDHVTRLDRWEPELNEAIPNDERDTTMPAAMATTLRKLLTGELLTLASRQQLIDWMEADKVAGPLLRSALPAGWFIADKSGAGERGSRGIIAALGPDGKPSRIVVIYTTGSQATMDERNRQIAEIGASLIKHW\""
   ]
  },
  {
   "cell_type": "code",
   "execution_count": 8,
   "metadata": {},
   "outputs": [],
   "source": [
    "model_name = \"model_1\""
   ]
  },
  {
   "cell_type": "code",
   "execution_count": 9,
   "metadata": {},
   "outputs": [],
   "source": [
    "num_templates = 1 \n",
    "num_res = len(sequence)"
   ]
  },
  {
   "cell_type": "code",
   "execution_count": 10,
   "metadata": {},
   "outputs": [],
   "source": [
    "feature_dict = {}\n",
    "feature_dict.update(data_pipeline.make_sequence_features(sequence, 'test', num_res))\n",
    "feature_dict.update(data_pipeline.make_msa_features(msas, deletion_matrices=deletion_matrices))\n",
    "feature_dict.update(_placeholder_template_feats(num_templates, num_res))"
   ]
  },
  {
   "cell_type": "code",
   "execution_count": 10,
   "metadata": {},
   "outputs": [],
   "source": [
    "import pickle\n",
    "\n",
    "filepath = \"msa_arr.pickle\"\n",
    "output_dir = \"./../data_pickle\"\n",
    "msa_output_path = os.path.join(output_dir, filepath)\n",
    "with open(msa_output_path, 'wb') as f:\n",
    "    pickle.dump(feature_dict['msa'], f, protocol=pickle.HIGHEST_PROTOCOL)"
   ]
  },
  {
   "cell_type": "code",
   "execution_count": 11,
   "metadata": {},
   "outputs": [],
   "source": [
    "weight_set = \"OpenFold\""
   ]
  },
  {
   "cell_type": "code",
   "execution_count": 12,
   "metadata": {},
   "outputs": [],
   "source": [
    "cfg = config.model_config(model_name)\n",
    "openfold_model = model.AlphaFold(cfg)\n",
    "openfold_model = openfold_model.eval()"
   ]
  },
  {
   "cell_type": "code",
   "execution_count": 12,
   "metadata": {},
   "outputs": [],
   "source": [
    "OPENFOLD_PARAMS_DIR = './openfold/resources/openfold_params'"
   ]
  },
  {
   "cell_type": "code",
   "execution_count": 14,
   "metadata": {},
   "outputs": [],
   "source": [
    "if(weight_set == \"OpenFold\"):\n",
    "  model_name_spl = model_name.split(\"_\")\n",
    "\n",
    "  if(model_name_spl[-1] == \"ptm\"):\n",
    "    of_model_name = \"finetuning_ptm_2.pt\"\n",
    "    \n",
    "  else:\n",
    "    of_model_name = f\"finetuning_{model_name_spl[-1]}.pt\"\n",
    "    \n",
    "  params_name = os.path.join(\n",
    "    OPENFOLD_PARAMS_DIR,\n",
    "    of_model_name\n",
    "  )\n",
    "\n",
    "  d = torch.load(params_name)\n",
    "  openfold_model.load_state_dict(d)\n",
    "else:\n",
    "  raise ValueError(f\"Invalid weight set: {weight_set}\")"
   ]
  },
  {
   "cell_type": "code",
   "execution_count": 15,
   "metadata": {},
   "outputs": [],
   "source": [
    "openfold_model = openfold_model.cuda()"
   ]
  },
  {
   "cell_type": "code",
   "execution_count": 16,
   "metadata": {},
   "outputs": [
    {
     "name": "stderr",
     "output_type": "stream",
     "text": [
      "/home/elio/Desktop/Thesis-MSc/openfold_model/openfold/data/feature_pipeline.py:45: UserWarning: To copy construct from a tensor, it is recommended to use sourceTensor.clone().detach() or sourceTensor.clone().detach().requires_grad_(True), rather than torch.tensor(sourceTensor).\n",
      "  k: torch.tensor(v) for k, v in np_example.items() if k in features\n"
     ]
    },
    {
     "name": "stdout",
     "output_type": "stream",
     "text": [
      "\t\tRecycling from configs\n",
      "\tCALLING MSA SAMPLING\n",
      "2788110\n",
      "Dumping pickle at ./../data_pickle/sel_seq.pickle\n",
      "Dumping pickle at ./../data_pickle/not_sel_seq.pickle\n",
      "\tCALLING MSA SAMPLING\n",
      "2788110\n",
      "Dumping pickle at ./../data_pickle/sel_seq.pickle\n",
      "Dumping pickle at ./../data_pickle/not_sel_seq.pickle\n",
      "\tCALLING MSA SAMPLING\n",
      "2788110\n",
      "Dumping pickle at ./../data_pickle/sel_seq.pickle\n",
      "Dumping pickle at ./../data_pickle/not_sel_seq.pickle\n",
      "\tCALLING MSA SAMPLING\n",
      "2788110\n",
      "Dumping pickle at ./../data_pickle/sel_seq.pickle\n",
      "Dumping pickle at ./../data_pickle/not_sel_seq.pickle\n"
     ]
    }
   ],
   "source": [
    "pipeline = feature_pipeline.FeaturePipeline(cfg.data)\n",
    " \n",
    "processed_feature_dict = pipeline.process_features(\n",
    "  feature_dict, mode='predict'\n",
    ")"
   ]
  },
  {
   "cell_type": "code",
   "execution_count": 17,
   "metadata": {},
   "outputs": [
    {
     "data": {
      "text/plain": [
       "dict_keys(['aatype', 'residue_index', 'seq_length', 'template_aatype', 'template_all_atom_positions', 'template_all_atom_mask', 'template_sum_probs', 'seq_mask', 'msa_mask', 'msa_row_mask', 'template_mask', 'template_pseudo_beta', 'template_pseudo_beta_mask', 'template_torsion_angles_sin_cos', 'template_alt_torsion_angles_sin_cos', 'template_torsion_angles_mask', 'atom14_atom_exists', 'residx_atom14_to_atom37', 'residx_atom37_to_atom14', 'atom37_atom_exists', 'extra_msa', 'extra_msa_mask', 'extra_msa_row_mask', 'bert_mask', 'true_msa', 'extra_has_deletion', 'extra_deletion_value', 'msa_feat', 'target_feat'])"
      ]
     },
     "execution_count": 17,
     "metadata": {},
     "output_type": "execute_result"
    }
   ],
   "source": [
    "processed_feature_dict.keys()"
   ]
  },
  {
   "cell_type": "code",
   "execution_count": 18,
   "metadata": {},
   "outputs": [
    {
     "data": {
      "text/plain": [
       "torch.Size([512, 286, 4])"
      ]
     },
     "execution_count": 18,
     "metadata": {},
     "output_type": "execute_result"
    }
   ],
   "source": [
    "processed_feature_dict['true_msa'].shape"
   ]
  },
  {
   "cell_type": "code",
   "execution_count": 19,
   "metadata": {},
   "outputs": [],
   "source": [
    "processed_feature_dict = tensor_tree_map(\n",
    "    lambda t: t.cuda(), processed_feature_dict\n",
    ")"
   ]
  },
  {
   "cell_type": "code",
   "execution_count": 20,
   "metadata": {},
   "outputs": [
    {
     "data": {
      "text/plain": [
       "torch.Size([512, 286, 1])"
      ]
     },
     "execution_count": 20,
     "metadata": {},
     "output_type": "execute_result"
    }
   ],
   "source": [
    "processed_feature_dict['true_msa'].shape"
   ]
  },
  {
   "cell_type": "code",
   "execution_count": 21,
   "metadata": {},
   "outputs": [],
   "source": [
    "torch.cuda.empty_cache()\n",
    "\n",
    "with torch.no_grad():\n",
    "  prediction_result = openfold_model(processed_feature_dict)"
   ]
  },
  {
   "cell_type": "code",
   "execution_count": 22,
   "metadata": {},
   "outputs": [
    {
     "data": {
      "text/plain": [
       "dict_keys(['msa', 'pair', 'single', 'sm', 'final_atom_positions', 'final_atom_mask', 'final_affine_tensor', 'lddt_logits', 'plddt', 'distogram_logits', 'masked_msa_logits', 'experimentally_resolved_logits'])"
      ]
     },
     "execution_count": 22,
     "metadata": {},
     "output_type": "execute_result"
    }
   ],
   "source": [
    "prediction_result.keys()"
   ]
  },
  {
   "cell_type": "code",
   "execution_count": 23,
   "metadata": {},
   "outputs": [
    {
     "data": {
      "text/plain": [
       "tensor([[[  0.1191,  -9.6091,  10.6376,  ...,  16.7106,   5.8943,  -9.3006],\n",
       "         [  1.4778,  -0.0605,   9.2424,  ...,  14.3378,   8.9431,  -8.1625],\n",
       "         [ -3.0234, -12.3100, -13.6958,  ...,   9.7739,   6.6718,  -3.3194],\n",
       "         ...,\n",
       "         [  9.3769,  10.1555, -11.3802,  ...,  -7.1300,   7.1486,   7.5885],\n",
       "         [ 10.6756, -20.5260, -15.4468,  ..., -12.4990,  -9.3852,   0.9390],\n",
       "         [  3.1308,  -7.8135,  -6.2527,  ...,  -1.1047,  -1.4711,  -6.7019]],\n",
       "\n",
       "        [[  5.4426,  -2.8225,  -4.8795,  ...,  -2.8427,  -6.8015,   3.0237],\n",
       "         [  5.8724,  -3.6131,  -5.7323,  ...,  -1.6076,  -7.6941,  -0.2041],\n",
       "         [  3.1117,  -1.3960,  -5.9726,  ...,  -2.0690,  -8.4099,   1.6113],\n",
       "         ...,\n",
       "         [  5.0194,  -4.6451,  -7.6387,  ...,  -1.3770,  -7.1926,   0.7363],\n",
       "         [  5.7854,  -5.0206,  -7.0606,  ...,  -2.5019,  -6.1591,   0.6487],\n",
       "         [  5.3092,  -4.4249,  -9.3564,  ...,  -2.2320,  -7.3628,   2.4500]],\n",
       "\n",
       "        [[  3.5424,  -2.2098,  -5.3928,  ...,  -1.8931,  -3.8775,   3.8768],\n",
       "         [  3.4899,  -3.8590,  -3.2453,  ...,  -0.8642,  -5.5727,  -0.6432],\n",
       "         [  2.4415,  -3.0815,  -5.5882,  ...,  -0.7365,  -5.4110,   0.1197],\n",
       "         ...,\n",
       "         [  4.2918,  -5.0725,  -6.5498,  ...,  -1.4511,  -9.6153,   0.6314],\n",
       "         [  1.9698,  -4.5153,  -1.9979,  ...,  -2.9931,  -8.4361,   0.2098],\n",
       "         [  5.7062,  -3.9144,  -5.3493,  ...,  -3.7095,  -6.3410,   1.8074]],\n",
       "\n",
       "        ...,\n",
       "\n",
       "        [[  4.3094,  -2.3444,  -8.5271,  ...,  -4.0456,  -3.0300,   4.3729],\n",
       "         [  5.1509,  -4.0713,  -5.4465,  ...,  -2.4418,  -5.5419,   1.4894],\n",
       "         [  4.2486,  -3.0007,  -7.5531,  ...,  -2.3458,  -5.3349,   2.1130],\n",
       "         ...,\n",
       "         [  5.4027,  -1.7934, -10.1492,  ...,  -0.2494,  -6.6076,   2.4960],\n",
       "         [  5.4087,  -2.1567,  -8.6660,  ...,  -2.1433,  -5.3773,   0.2541],\n",
       "         [  5.5847,  -2.6928,  -9.5588,  ...,  -3.5035,  -3.5254,   2.2769]],\n",
       "\n",
       "        [[  5.4619,  -2.6748, -11.7163,  ...,  -8.4519,  -0.9073,   7.3349],\n",
       "         [  5.5062,  -5.7913,  -1.1521,  ...,  -6.6054, -12.4913,   1.6798],\n",
       "         [  1.6786,  -4.9885,  -4.6098,  ...,  -7.3081,  -4.6546,   2.1151],\n",
       "         ...,\n",
       "         [  3.4648,  -1.8917,  -5.0317,  ...,  -2.4113, -11.1561,   1.0622],\n",
       "         [  1.5824,  -2.1104,  -1.8866,  ...,  -4.0380,  -9.8825,   0.5001],\n",
       "         [  3.6244,  -1.0140,  -4.2868,  ...,  -5.1714,  -7.3402,   0.6819]],\n",
       "\n",
       "        [[  7.1087,  -5.4940,  -9.5770,  ...,  -7.6312,   8.0775,   4.4009],\n",
       "         [  3.6202,  -5.0025,  -3.2332,  ...,  -4.5091, -11.8410,  -0.1680],\n",
       "         [  2.9539,  -5.4707,  -1.0207,  ...,  -6.7596,   2.0894,   1.2538],\n",
       "         ...,\n",
       "         [ 13.8611,  -9.7905,  -3.1881,  ...,  -2.1922, -15.4531,   4.2131],\n",
       "         [ 11.2463,   8.7433,  -1.0303,  ...,  -5.5698, -16.1978,   0.9045],\n",
       "         [  2.3279,  -3.5847,  -1.0167,  ...,  -6.8847,  -6.8719,   2.9064]]],\n",
       "       device='cuda:0')"
      ]
     },
     "execution_count": 23,
     "metadata": {},
     "output_type": "execute_result"
    }
   ],
   "source": [
    "prediction_result['msa']"
   ]
  },
  {
   "cell_type": "code",
   "execution_count": 24,
   "metadata": {},
   "outputs": [
    {
     "data": {
      "text/plain": [
       "torch.Size([512, 286, 256])"
      ]
     },
     "execution_count": 24,
     "metadata": {},
     "output_type": "execute_result"
    }
   ],
   "source": [
    "prediction_result['msa'].shape"
   ]
  },
  {
   "cell_type": "code",
   "execution_count": 25,
   "metadata": {},
   "outputs": [],
   "source": [
    "import pickle\n",
    "\n",
    "filepath = \"prediction_result.pickle\"\n",
    "output_dir = \"./../data_pickle\"\n",
    "msa_output_path = os.path.join(output_dir, filepath)\n",
    "with open(msa_output_path, 'wb') as f:\n",
    "    pickle.dump(prediction_result, f, protocol=pickle.HIGHEST_PROTOCOL)"
   ]
  },
  {
   "cell_type": "code",
   "execution_count": null,
   "metadata": {},
   "outputs": [],
   "source": []
  },
  {
   "cell_type": "markdown",
   "metadata": {},
   "source": [
    "### 10 high vs 10 lows mutations"
   ]
  },
  {
   "cell_type": "code",
   "execution_count": 13,
   "metadata": {},
   "outputs": [],
   "source": [
    "def full_pipeline(sequence, msas, deletion_matrices, filename):\n",
    "\n",
    "    feature_dict = {}\n",
    "    feature_dict.update(data_pipeline.make_sequence_features(sequence, 'test', num_res))\n",
    "    feature_dict.update(data_pipeline.make_msa_features(msas, deletion_matrices=deletion_matrices))\n",
    "    feature_dict.update(_placeholder_template_feats(num_templates, num_res))\n",
    "\n",
    "    cfg = config.model_config(model_name)\n",
    "    openfold_model = model.AlphaFold(cfg)\n",
    "    openfold_model = openfold_model.eval()\n",
    "\n",
    "    if(weight_set == \"OpenFold\"):\n",
    "        model_name_spl = model_name.split(\"_\")\n",
    "\n",
    "        if(model_name_spl[-1] == \"ptm\"):\n",
    "            of_model_name = \"finetuning_ptm_2.pt\"\n",
    "            \n",
    "        else:\n",
    "            of_model_name = f\"finetuning_{model_name_spl[-1]}.pt\"\n",
    "            \n",
    "        params_name = os.path.join(\n",
    "            OPENFOLD_PARAMS_DIR,\n",
    "            of_model_name\n",
    "        )\n",
    "\n",
    "        d = torch.load(params_name)\n",
    "        openfold_model.load_state_dict(d)\n",
    "    else:\n",
    "        raise ValueError(f\"Invalid weight set: {weight_set}\")\n",
    "\n",
    "    openfold_model = openfold_model.cuda()\n",
    "\n",
    "    pipeline = feature_pipeline.FeaturePipeline(cfg.data)\n",
    " \n",
    "    processed_feature_dict = pipeline.process_features(\n",
    "        feature_dict, mode='predict'\n",
    "    )\n",
    "\n",
    "    processed_feature_dict = tensor_tree_map(\n",
    "        lambda t: t.cuda(), processed_feature_dict\n",
    "    )\n",
    "\n",
    "    torch.cuda.empty_cache()\n",
    "\n",
    "    with torch.no_grad():\n",
    "        prediction_result = openfold_model(processed_feature_dict)\n",
    "\n",
    "    filename = filename + \".pickle\"\n",
    "    output_dir = \"./../data_pickle/low_and_high_representation\"\n",
    "    output_path = os.path.join(output_dir, filename)\n",
    "    with open(output_path, 'wb') as f:\n",
    "        pickle.dump(prediction_result, f, protocol=pickle.HIGHEST_PROTOCOL)"
   ]
  },
  {
   "cell_type": "code",
   "execution_count": 14,
   "metadata": {},
   "outputs": [],
   "source": [
    "import pickle5 as pickle"
   ]
  },
  {
   "cell_type": "code",
   "execution_count": 15,
   "metadata": {},
   "outputs": [],
   "source": [
    "with open(\"../data_pickle/sequences_openfold_dict.pickle\", 'rb') as f:\n",
    "    sequences_openfold_dict = pickle.load(f)"
   ]
  },
  {
   "cell_type": "code",
   "execution_count": 16,
   "metadata": {},
   "outputs": [
    {
     "data": {
      "text/plain": [
       "dict_keys(['low_1', 'low_2', 'low_3', 'low_4', 'low_5', 'low_6', 'low_7', 'low_8', 'low_9', 'low_10', 'high_1', 'high_2', 'high_3', 'high_4', 'high_5', 'high_6', 'high_7', 'high_8', 'high_9', 'high_10'])"
      ]
     },
     "execution_count": 16,
     "metadata": {},
     "output_type": "execute_result"
    }
   ],
   "source": [
    "sequences_openfold_dict.keys()"
   ]
  },
  {
   "cell_type": "code",
   "execution_count": 17,
   "metadata": {},
   "outputs": [
    {
     "name": "stdout",
     "output_type": "stream",
     "text": [
      "low_1\n"
     ]
    },
    {
     "name": "stderr",
     "output_type": "stream",
     "text": [
      "/home/elio/Desktop/Thesis-MSc/openfold_model/openfold/data/feature_pipeline.py:45: UserWarning: To copy construct from a tensor, it is recommended to use sourceTensor.clone().detach() or sourceTensor.clone().detach().requires_grad_(True), rather than torch.tensor(sourceTensor).\n",
      "  k: torch.tensor(v) for k, v in np_example.items() if k in features\n"
     ]
    },
    {
     "name": "stdout",
     "output_type": "stream",
     "text": [
      "\t\tRecycling from configs\n",
      "\tCALLING MSA SAMPLING\n",
      "seed: 108\n",
      "0\n",
      "2744834\n",
      "Dumping pickle at ./../data_pickle/sel_seq.pickle\n",
      "Dumping pickle at ./../data_pickle/not_sel_seq.pickle\n",
      "\tCALLING MSA SAMPLING\n",
      "seed: 651\n",
      "0\n",
      "2821065\n",
      "Dumping pickle at ./../data_pickle/sel_seq.pickle\n",
      "Dumping pickle at ./../data_pickle/not_sel_seq.pickle\n",
      "\tCALLING MSA SAMPLING\n",
      "seed: 545\n",
      "0\n",
      "2736497\n",
      "Dumping pickle at ./../data_pickle/sel_seq.pickle\n",
      "Dumping pickle at ./../data_pickle/not_sel_seq.pickle\n",
      "\tCALLING MSA SAMPLING\n",
      "seed: 621\n",
      "0\n",
      "2726898\n",
      "Dumping pickle at ./../data_pickle/sel_seq.pickle\n",
      "Dumping pickle at ./../data_pickle/not_sel_seq.pickle\n",
      "low_2\n",
      "\t\tRecycling from configs\n",
      "\tCALLING MSA SAMPLING\n",
      "seed: 588\n",
      "0\n",
      "2642247\n",
      "Dumping pickle at ./../data_pickle/sel_seq.pickle\n",
      "Dumping pickle at ./../data_pickle/not_sel_seq.pickle\n",
      "\tCALLING MSA SAMPLING\n",
      "seed: 521\n",
      "0\n",
      "2632740\n",
      "Dumping pickle at ./../data_pickle/sel_seq.pickle\n",
      "Dumping pickle at ./../data_pickle/not_sel_seq.pickle\n",
      "\tCALLING MSA SAMPLING\n",
      "seed: 675\n",
      "0\n",
      "2808027\n",
      "Dumping pickle at ./../data_pickle/sel_seq.pickle\n",
      "Dumping pickle at ./../data_pickle/not_sel_seq.pickle\n",
      "\tCALLING MSA SAMPLING\n",
      "seed: 655\n",
      "0\n",
      "2676066\n",
      "Dumping pickle at ./../data_pickle/sel_seq.pickle\n",
      "Dumping pickle at ./../data_pickle/not_sel_seq.pickle\n",
      "low_3\n",
      "\t\tRecycling from configs\n",
      "\tCALLING MSA SAMPLING\n",
      "seed: 95\n",
      "0\n",
      "2799071\n",
      "Dumping pickle at ./../data_pickle/sel_seq.pickle\n",
      "Dumping pickle at ./../data_pickle/not_sel_seq.pickle\n",
      "\tCALLING MSA SAMPLING\n",
      "seed: 415\n",
      "0\n",
      "2745634\n",
      "Dumping pickle at ./../data_pickle/sel_seq.pickle\n",
      "Dumping pickle at ./../data_pickle/not_sel_seq.pickle\n",
      "\tCALLING MSA SAMPLING\n",
      "seed: 576\n",
      "0\n",
      "2731552\n",
      "Dumping pickle at ./../data_pickle/sel_seq.pickle\n",
      "Dumping pickle at ./../data_pickle/not_sel_seq.pickle\n",
      "\tCALLING MSA SAMPLING\n",
      "seed: 228\n",
      "0\n",
      "2806043\n",
      "Dumping pickle at ./../data_pickle/sel_seq.pickle\n",
      "Dumping pickle at ./../data_pickle/not_sel_seq.pickle\n",
      "low_4\n",
      "\t\tRecycling from configs\n",
      "\tCALLING MSA SAMPLING\n",
      "seed: 216\n",
      "0\n",
      "2829104\n",
      "Dumping pickle at ./../data_pickle/sel_seq.pickle\n",
      "Dumping pickle at ./../data_pickle/not_sel_seq.pickle\n",
      "\tCALLING MSA SAMPLING\n",
      "seed: 327\n",
      "0\n",
      "2710874\n",
      "Dumping pickle at ./../data_pickle/sel_seq.pickle\n",
      "Dumping pickle at ./../data_pickle/not_sel_seq.pickle\n",
      "\tCALLING MSA SAMPLING\n",
      "seed: 123\n",
      "0\n",
      "2769471\n",
      "Dumping pickle at ./../data_pickle/sel_seq.pickle\n",
      "Dumping pickle at ./../data_pickle/not_sel_seq.pickle\n",
      "\tCALLING MSA SAMPLING\n",
      "seed: 580\n",
      "0\n",
      "2817280\n",
      "Dumping pickle at ./../data_pickle/sel_seq.pickle\n",
      "Dumping pickle at ./../data_pickle/not_sel_seq.pickle\n",
      "low_5\n",
      "\t\tRecycling from configs\n",
      "\tCALLING MSA SAMPLING\n",
      "seed: 745\n",
      "0\n",
      "2651403\n",
      "Dumping pickle at ./../data_pickle/sel_seq.pickle\n",
      "Dumping pickle at ./../data_pickle/not_sel_seq.pickle\n",
      "\tCALLING MSA SAMPLING\n",
      "seed: 815\n",
      "0\n",
      "2727746\n",
      "Dumping pickle at ./../data_pickle/sel_seq.pickle\n",
      "Dumping pickle at ./../data_pickle/not_sel_seq.pickle\n",
      "\tCALLING MSA SAMPLING\n",
      "seed: 116\n",
      "0\n",
      "2693797\n",
      "Dumping pickle at ./../data_pickle/sel_seq.pickle\n",
      "Dumping pickle at ./../data_pickle/not_sel_seq.pickle\n",
      "\tCALLING MSA SAMPLING\n",
      "seed: 93\n",
      "0\n",
      "2837103\n",
      "Dumping pickle at ./../data_pickle/sel_seq.pickle\n",
      "Dumping pickle at ./../data_pickle/not_sel_seq.pickle\n",
      "low_6\n",
      "\tNo file\n",
      "low_7\n",
      "\tNo file\n",
      "low_8\n",
      "\tNo file\n",
      "low_9\n",
      "\tNo file\n",
      "low_10\n",
      "\tNo file\n",
      "high_1\n",
      "\t\tRecycling from configs\n",
      "\tCALLING MSA SAMPLING\n",
      "seed: 845\n",
      "0\n",
      "2896903\n",
      "Dumping pickle at ./../data_pickle/sel_seq.pickle\n",
      "Dumping pickle at ./../data_pickle/not_sel_seq.pickle\n",
      "\tCALLING MSA SAMPLING\n",
      "seed: 131\n",
      "0\n",
      "2719054\n",
      "Dumping pickle at ./../data_pickle/sel_seq.pickle\n",
      "Dumping pickle at ./../data_pickle/not_sel_seq.pickle\n",
      "\tCALLING MSA SAMPLING\n",
      "seed: 210\n",
      "0\n",
      "2813756\n",
      "Dumping pickle at ./../data_pickle/sel_seq.pickle\n",
      "Dumping pickle at ./../data_pickle/not_sel_seq.pickle\n",
      "\tCALLING MSA SAMPLING\n",
      "seed: 125\n",
      "0\n",
      "2835423\n",
      "Dumping pickle at ./../data_pickle/sel_seq.pickle\n",
      "Dumping pickle at ./../data_pickle/not_sel_seq.pickle\n",
      "high_2\n",
      "\t\tRecycling from configs\n",
      "\tCALLING MSA SAMPLING\n",
      "seed: 844\n",
      "0\n",
      "2728810\n",
      "Dumping pickle at ./../data_pickle/sel_seq.pickle\n",
      "Dumping pickle at ./../data_pickle/not_sel_seq.pickle\n",
      "\tCALLING MSA SAMPLING\n",
      "seed: 385\n",
      "0\n",
      "2893668\n",
      "Dumping pickle at ./../data_pickle/sel_seq.pickle\n",
      "Dumping pickle at ./../data_pickle/not_sel_seq.pickle\n",
      "\tCALLING MSA SAMPLING\n",
      "seed: 873\n",
      "0\n",
      "2833875\n",
      "Dumping pickle at ./../data_pickle/sel_seq.pickle\n",
      "Dumping pickle at ./../data_pickle/not_sel_seq.pickle\n",
      "\tCALLING MSA SAMPLING\n",
      "seed: 816\n",
      "0\n",
      "2744099\n",
      "Dumping pickle at ./../data_pickle/sel_seq.pickle\n",
      "Dumping pickle at ./../data_pickle/not_sel_seq.pickle\n",
      "high_3\n",
      "\t\tRecycling from configs\n",
      "\tCALLING MSA SAMPLING\n",
      "seed: 457\n",
      "0\n",
      "2678258\n",
      "Dumping pickle at ./../data_pickle/sel_seq.pickle\n",
      "Dumping pickle at ./../data_pickle/not_sel_seq.pickle\n",
      "\tCALLING MSA SAMPLING\n",
      "seed: 61\n",
      "0\n",
      "2569599\n",
      "Dumping pickle at ./../data_pickle/sel_seq.pickle\n",
      "Dumping pickle at ./../data_pickle/not_sel_seq.pickle\n",
      "\tCALLING MSA SAMPLING\n",
      "seed: 899\n",
      "0\n",
      "2794177\n",
      "Dumping pickle at ./../data_pickle/sel_seq.pickle\n",
      "Dumping pickle at ./../data_pickle/not_sel_seq.pickle\n",
      "\tCALLING MSA SAMPLING\n",
      "seed: 741\n",
      "0\n",
      "2807244\n",
      "Dumping pickle at ./../data_pickle/sel_seq.pickle\n",
      "Dumping pickle at ./../data_pickle/not_sel_seq.pickle\n",
      "high_4\n",
      "\t\tRecycling from configs\n",
      "\tCALLING MSA SAMPLING\n",
      "seed: 244\n",
      "0\n",
      "2634690\n",
      "Dumping pickle at ./../data_pickle/sel_seq.pickle\n",
      "Dumping pickle at ./../data_pickle/not_sel_seq.pickle\n",
      "\tCALLING MSA SAMPLING\n",
      "seed: 579\n",
      "0\n",
      "2834577\n",
      "Dumping pickle at ./../data_pickle/sel_seq.pickle\n",
      "Dumping pickle at ./../data_pickle/not_sel_seq.pickle\n",
      "\tCALLING MSA SAMPLING\n",
      "seed: 239\n",
      "0\n",
      "2796256\n",
      "Dumping pickle at ./../data_pickle/sel_seq.pickle\n",
      "Dumping pickle at ./../data_pickle/not_sel_seq.pickle\n",
      "\tCALLING MSA SAMPLING\n",
      "seed: 606\n",
      "0\n",
      "2761075\n",
      "Dumping pickle at ./../data_pickle/sel_seq.pickle\n",
      "Dumping pickle at ./../data_pickle/not_sel_seq.pickle\n",
      "high_5\n",
      "\t\tRecycling from configs\n",
      "\tCALLING MSA SAMPLING\n",
      "seed: 51\n",
      "0\n",
      "2751681\n",
      "Dumping pickle at ./../data_pickle/sel_seq.pickle\n",
      "Dumping pickle at ./../data_pickle/not_sel_seq.pickle\n",
      "\tCALLING MSA SAMPLING\n",
      "seed: 602\n",
      "0\n",
      "2770699\n",
      "Dumping pickle at ./../data_pickle/sel_seq.pickle\n",
      "Dumping pickle at ./../data_pickle/not_sel_seq.pickle\n",
      "\tCALLING MSA SAMPLING\n",
      "seed: 572\n",
      "0\n",
      "2859563\n",
      "Dumping pickle at ./../data_pickle/sel_seq.pickle\n",
      "Dumping pickle at ./../data_pickle/not_sel_seq.pickle\n",
      "\tCALLING MSA SAMPLING\n",
      "seed: 562\n",
      "0\n",
      "2851266\n",
      "Dumping pickle at ./../data_pickle/sel_seq.pickle\n",
      "Dumping pickle at ./../data_pickle/not_sel_seq.pickle\n",
      "high_6\n",
      "\tNo file\n",
      "high_7\n",
      "\tNo file\n",
      "high_8\n",
      "\tNo file\n",
      "high_9\n",
      "\tNo file\n",
      "high_10\n",
      "\tNo file\n"
     ]
    }
   ],
   "source": [
    "'''\n",
    "TODO: \n",
    "1)Run OpenFold the extract the MSA representation\n",
    "\n",
    "2)Then do correlation of the first row of the representations\n",
    "\n",
    "3)Then, for each first row of the MSA representation,\n",
    "compute the delta elbo (on the model trained with the MSA representation of the original sequence),\n",
    "correlate the delta elbo between the two groups of mutations\n",
    "\n",
    "'''\n",
    "\n",
    "\n",
    "for mutation_key in sequences_openfold_dict.keys():\n",
    "\n",
    "    print(mutation_key)\n",
    "\n",
    "    if mutation_key in [x.split('.')[0] for x in os.listdir(\"../data_pickle/low_and_high_representation/\")]:\n",
    "        print(\"\\tFile already processed\")\n",
    "        continue\n",
    "\n",
    "    try:\n",
    "\n",
    "        sequence = sequences_openfold_dict[mutation_key]\n",
    "        \n",
    "        msas_filename = mutation_key + \"_msas.pickle\"\n",
    "\n",
    "        with open(\"../data_pickle/low_and_high_msa/\" + msas_filename, 'rb') as f:\n",
    "            msas = pickle.load(f)\n",
    "\n",
    "\n",
    "        deletion_matrices_filename = mutation_key + \"_deletion_matrices.pickle\"\n",
    "\n",
    "        with open(\"../data_pickle/low_and_high_msa/\" + deletion_matrices_filename, 'rb') as f:\n",
    "            deletion_matrices = pickle.load(f)\n",
    "\n",
    "        \n",
    "        full_pipeline(sequence, msas, deletion_matrices, filename=mutation_key)\n",
    "\n",
    "    except FileNotFoundError:\n",
    "        print(\"\\tNo file\")"
   ]
  },
  {
   "cell_type": "markdown",
   "metadata": {},
   "source": [
    "### Correlation between MSA representation (first row only)"
   ]
  },
  {
   "cell_type": "code",
   "execution_count": 18,
   "metadata": {},
   "outputs": [],
   "source": [
    "folder_output = './../data_pickle/low_and_high_representation'\n",
    "\n",
    "d = dict()\n",
    "\n",
    "for output in os.listdir(folder_output):\n",
    "\n",
    "    output_path = os.path.join(folder_output, output)\n",
    "\n",
    "    with open(output_path, 'rb') as f:\n",
    "        output_representation = pickle.load(f)\n",
    "    \n",
    "    output_name = output.split(\".\")[0]\n",
    "\n",
    "    d[output_name] = output_representation['msa'][0].cpu().numpy()"
   ]
  },
  {
   "cell_type": "code",
   "execution_count": 19,
   "metadata": {},
   "outputs": [
    {
     "data": {
      "text/plain": [
       "(286, 256)"
      ]
     },
     "execution_count": 19,
     "metadata": {},
     "output_type": "execute_result"
    }
   ],
   "source": [
    "d['low_1'].shape"
   ]
  },
  {
   "cell_type": "code",
   "execution_count": 20,
   "metadata": {},
   "outputs": [
    {
     "data": {
      "text/plain": [
       "dict_keys(['low_3', 'low_4', 'high_3', 'low_2', 'high_2', 'high_5', 'high_1', 'low_1', 'high_4', 'low_5'])"
      ]
     },
     "execution_count": 20,
     "metadata": {},
     "output_type": "execute_result"
    }
   ],
   "source": [
    "d.keys()"
   ]
  },
  {
   "cell_type": "code",
   "execution_count": 21,
   "metadata": {},
   "outputs": [],
   "source": [
    "from scipy.stats.stats import pearsonr \n",
    "import numpy as np"
   ]
  },
  {
   "cell_type": "code",
   "execution_count": 22,
   "metadata": {},
   "outputs": [],
   "source": [
    "ordered_keys = ['low_1', 'low_2', 'low_3', 'low_4', 'low_5', 'high_1', 'high_2', 'high_3', 'high_4', 'high_5']"
   ]
  },
  {
   "cell_type": "code",
   "execution_count": 23,
   "metadata": {},
   "outputs": [
    {
     "data": {
      "text/plain": [
       "(10, 10)"
      ]
     },
     "execution_count": 23,
     "metadata": {},
     "output_type": "execute_result"
    }
   ],
   "source": [
    "corr_matrix = np.zeros((len(ordered_keys), len(ordered_keys)))\n",
    "corr_matrix.shape"
   ]
  },
  {
   "cell_type": "code",
   "execution_count": 24,
   "metadata": {},
   "outputs": [],
   "source": [
    "for i, key_i in enumerate(ordered_keys):\n",
    "\n",
    "    representation_i = d[key_i]\n",
    "\n",
    "    for j, key_j in enumerate(ordered_keys):\n",
    "\n",
    "        representation_j = d[key_j]\n",
    "\n",
    "        list_corr = []\n",
    "\n",
    "        for channel in range(256):\n",
    "            list_corr.append(pearsonr(representation_i[:, channel], representation_j[:, channel])[0])\n",
    "            \n",
    "        corr = np.array(list_corr).mean()\n",
    "        corr_matrix[i, j] = corr"
   ]
  },
  {
   "cell_type": "code",
   "execution_count": 25,
   "metadata": {},
   "outputs": [
    {
     "data": {
      "text/plain": [
       "array([[1.        , 0.98584834, 0.98575235, 0.98198925, 0.98075869,\n",
       "        0.98476074, 0.98251592, 0.98372581, 0.98475337, 0.98532739],\n",
       "       [0.98584834, 1.        , 0.98887337, 0.98659314, 0.98885967,\n",
       "        0.98800684, 0.98837381, 0.98756342, 0.98739574, 0.99019777],\n",
       "       [0.98575235, 0.98887337, 1.        , 0.98994107, 0.98849093,\n",
       "        0.98658999, 0.98648461, 0.98506605, 0.99021396, 0.98812129],\n",
       "       [0.98198925, 0.98659314, 0.98994107, 1.        , 0.98622131,\n",
       "        0.9851351 , 0.98448743, 0.9821114 , 0.98938194, 0.98538096],\n",
       "       [0.98075869, 0.98885967, 0.98849093, 0.98622131, 1.        ,\n",
       "        0.98198308, 0.98524455, 0.98248855, 0.98582942, 0.98536993],\n",
       "       [0.98476074, 0.98800684, 0.98658999, 0.9851351 , 0.98198308,\n",
       "        1.        , 0.98298573, 0.98477118, 0.98641474, 0.99039229],\n",
       "       [0.98251592, 0.98837381, 0.98648461, 0.98448743, 0.98524455,\n",
       "        0.98298573, 1.        , 0.98238478, 0.98435959, 0.98614479],\n",
       "       [0.98372581, 0.98756342, 0.98506605, 0.9821114 , 0.98248855,\n",
       "        0.98477118, 0.98238478, 1.        , 0.98442643, 0.98484471],\n",
       "       [0.98475337, 0.98739574, 0.99021396, 0.98938194, 0.98582942,\n",
       "        0.98641474, 0.98435959, 0.98442643, 1.        , 0.98670881],\n",
       "       [0.98532739, 0.99019777, 0.98812129, 0.98538096, 0.98536993,\n",
       "        0.99039229, 0.98614479, 0.98484471, 0.98670881, 1.        ]])"
      ]
     },
     "execution_count": 25,
     "metadata": {},
     "output_type": "execute_result"
    }
   ],
   "source": [
    "corr_matrix"
   ]
  },
  {
   "cell_type": "code",
   "execution_count": 26,
   "metadata": {},
   "outputs": [],
   "source": [
    "#!pip install seaborn"
   ]
  },
  {
   "cell_type": "code",
   "execution_count": 27,
   "metadata": {},
   "outputs": [],
   "source": [
    "import seaborn as sns"
   ]
  },
  {
   "cell_type": "code",
   "execution_count": 28,
   "metadata": {},
   "outputs": [
    {
     "data": {
      "text/plain": [
       "<AxesSubplot:>"
      ]
     },
     "execution_count": 28,
     "metadata": {},
     "output_type": "execute_result"
    },
    {
     "data": {
      "image/png": "[encoded data removed]",
      "text/plain": [
       "<Figure size 432x288 with 2 Axes>"
      ]
     },
     "metadata": {
      "needs_background": "light"
     },
     "output_type": "display_data"
    }
   ],
   "source": [
    "sns.heatmap(corr_matrix, xticklabels=ordered_keys, yticklabels=ordered_keys)"
   ]
  },
  {
   "cell_type": "code",
   "execution_count": 30,
   "metadata": {},
   "outputs": [],
   "source": [
    "d_mean_by_category = dict()"
   ]
  },
  {
   "cell_type": "code",
   "execution_count": 31,
   "metadata": {},
   "outputs": [],
   "source": [
    "sum_high = np.zeros((286, 256))\n",
    "sum_low = np.zeros((286, 256))"
   ]
  },
  {
   "cell_type": "code",
   "execution_count": 32,
   "metadata": {},
   "outputs": [],
   "source": [
    "for key in ordered_keys:\n",
    "\n",
    "    if \"high\" in key:\n",
    "        sum_high += d[key]\n",
    "    else:\n",
    "        sum_low += d[key]\n",
    "\n",
    "d_mean_by_category['high'] = sum_high/5.0\n",
    "d_mean_by_category['low'] = sum_low/2.0"
   ]
  },
  {
   "cell_type": "code",
   "execution_count": 33,
   "metadata": {},
   "outputs": [
    {
     "data": {
      "text/plain": [
       "(2, 2)"
      ]
     },
     "execution_count": 33,
     "metadata": {},
     "output_type": "execute_result"
    }
   ],
   "source": [
    "corr_matrix_by_category = np.zeros((2, 2))\n",
    "corr_matrix_by_category.shape"
   ]
  },
  {
   "cell_type": "code",
   "execution_count": 34,
   "metadata": {},
   "outputs": [],
   "source": [
    "categories = ['high', 'low']"
   ]
  },
  {
   "cell_type": "code",
   "execution_count": 35,
   "metadata": {},
   "outputs": [],
   "source": [
    "for i, key_i in enumerate(categories):\n",
    "\n",
    "    representation_i = d_mean_by_category[key_i]\n",
    "\n",
    "    for j, key_j in enumerate(categories):\n",
    "\n",
    "        representation_j = d_mean_by_category[key_j]\n",
    "\n",
    "        list_corr = []\n",
    "\n",
    "        for channel in range(256):\n",
    "            list_corr.append(pearsonr(representation_i[:, channel], representation_j[:, channel])[0])\n",
    "            \n",
    "        corr = np.array(list_corr).mean()\n",
    "        corr_matrix_by_category[i, j] = corr"
   ]
  },
  {
   "cell_type": "code",
   "execution_count": 36,
   "metadata": {},
   "outputs": [
    {
     "data": {
      "text/plain": [
       "array([[1.        , 0.99715782],\n",
       "       [0.99715782, 1.        ]])"
      ]
     },
     "execution_count": 36,
     "metadata": {},
     "output_type": "execute_result"
    }
   ],
   "source": [
    "corr_matrix_by_category"
   ]
  },
  {
   "cell_type": "code",
   "execution_count": null,
   "metadata": {},
   "outputs": [],
   "source": []
  }
 ],
 "metadata": {
  "interpreter": {
   "hash": "b734eb7758abf3393a931433e51bb29d8c11a2cadf78a044dad7bdf5c07010d3"
  },
  "kernelspec": {
   "display_name": "Python 3.7.12 (conda)",
   "language": "python",
   "name": "python3"
  },
  "language_info": {
   "codemirror_mode": {
    "name": "ipython",
    "version": 3
   },
   "file_extension": ".py",
   "mimetype": "text/x-python",
   "name": "python",
   "nbconvert_exporter": "python",
   "pygments_lexer": "ipython3",
   "version": "3.7.12"
  },
  "orig_nbformat": 4
 },
 "nbformat": 4,
 "nbformat_minor": 2
}
