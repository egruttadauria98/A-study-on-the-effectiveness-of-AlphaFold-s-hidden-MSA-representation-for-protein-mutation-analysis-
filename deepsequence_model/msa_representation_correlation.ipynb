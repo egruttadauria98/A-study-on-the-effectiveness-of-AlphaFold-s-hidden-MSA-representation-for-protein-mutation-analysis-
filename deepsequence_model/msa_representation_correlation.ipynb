{
 "cells": [
  {
   "cell_type": "code",
   "execution_count": 1,
   "metadata": {},
   "outputs": [],
   "source": [
    "import pickle"
   ]
  },
  {
   "cell_type": "code",
   "execution_count": null,
   "metadata": {},
   "outputs": [],
   "source": [
    "folder "
   ]
  }
 ],
 "metadata": {
  "interpreter": {
   "hash": "7560b37db0cbb8bcb003a30ef9ed03000c9426f9b73fc99c7d241b0a108e2716"
  },
  "kernelspec": {
   "display_name": "Python 3.9.12 ('deep_sequence_pytorch_env')",
   "language": "python",
   "name": "python3"
  },
  "language_info": {
   "codemirror_mode": {
    "name": "ipython",
    "version": 3
   },
   "file_extension": ".py",
   "mimetype": "text/x-python",
   "name": "python",
   "nbconvert_exporter": "python",
   "pygments_lexer": "ipython3",
   "version": "3.9.12"
  },
  "orig_nbformat": 4
 },
 "nbformat": 4,
 "nbformat_minor": 2
}
